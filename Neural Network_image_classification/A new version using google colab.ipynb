{
 "cells": [
  {
   "cell_type": "code",
   "execution_count": 2,
   "metadata": {
    "id": "EGyy9p1pg_va"
   },
   "outputs": [],
   "source": [
    "import torch\n",
    "from torch import nn\n",
    "import torch.nn.functional as F\n",
    "\n",
    "from typing import Tuple, Union, List, Callable\n",
    "from torch.optim import SGD\n",
    "import torchvision\n",
    "from torch.utils.data import DataLoader, TensorDataset, random_split\n",
    "import matplotlib.pyplot as plt\n",
    "from tqdm import tqdm, trange"
   ]
  },
  {
   "cell_type": "code",
   "execution_count": 3,
   "metadata": {
    "colab": {
     "base_uri": "https://localhost:8080/"
    },
    "id": "S8PchUoahP0X",
    "outputId": "4b9d40c0-8992-4277-dabe-4e5af4367cfa"
   },
   "outputs": [
    {
     "name": "stdout",
     "output_type": "stream",
     "text": [
      "cuda\n"
     ]
    },
    {
     "data": {
      "text/plain": [
       "<torch._C.Generator at 0x7f5b2704eb50>"
      ]
     },
     "execution_count": 3,
     "metadata": {},
     "output_type": "execute_result"
    }
   ],
   "source": [
    "assert torch.cuda.is_available(), \"GPU is not available, check the directions above (or disable this assertion to use CPU)\"\n",
    "\n",
    "DEVICE = \"cuda\" if torch.cuda.is_available() else \"cpu\"\n",
    "print(DEVICE)  # this should print out CUDA\n",
    "# setting seed for reproduction\n",
    "torch.manual_seed(546)"
   ]
  },
  {
   "cell_type": "markdown",
   "metadata": {
    "id": "WRh8H74nzYqD"
   },
   "source": [
    "Processing data:\n",
    " * ToTensor: change value to 0 ~ 1\n",
    " * Normalize: change value to -1 to 1"
   ]
  },
  {
   "cell_type": "code",
   "execution_count": 4,
   "metadata": {
    "colab": {
     "base_uri": "https://localhost:8080/",
     "height": 100,
     "referenced_widgets": [
      "909a889ac545486fa175665d88ee7eb4",
      "a39ada485b8641ddb5ffcdfc26bf1402",
      "68606088f2eb414ea444cc826d8bf3e3",
      "2b20ab78d723443c864da3cedbbd9683",
      "61a0611ec3e246c39da4042bddfb79db",
      "3bcc9b0c911f4d268a0364635158691d",
      "b93d629f997848f9b9b12211601619e8",
      "d1cf81c0531948c19c482f4f29954266",
      "fd92bc7f46ec42f5be102132de7843ba",
      "150a86361c9f432680524323b457c1f7",
      "281daa1e1986403fad26bab721b5ad4a"
     ]
    },
    "id": "L-JfdpE8hRGl",
    "outputId": "33aed878-a2ca-4061-b0fc-b8087af78e27"
   },
   "outputs": [
    {
     "name": "stdout",
     "output_type": "stream",
     "text": [
      "Downloading https://www.cs.toronto.edu/~kriz/cifar-10-python.tar.gz to ./data/cifar-10-python.tar.gz\n"
     ]
    },
    {
     "data": {
      "application/vnd.jupyter.widget-view+json": {
       "model_id": "909a889ac545486fa175665d88ee7eb4",
       "version_major": 2,
       "version_minor": 0
      },
      "text/plain": [
       "  0%|          | 0/170498071 [00:00<?, ?it/s]"
      ]
     },
     "metadata": {},
     "output_type": "display_data"
    },
    {
     "name": "stdout",
     "output_type": "stream",
     "text": [
      "Extracting ./data/cifar-10-python.tar.gz to ./data\n",
      "Files already downloaded and verified\n"
     ]
    }
   ],
   "source": [
    "transform = torchvision.transforms.Compose(\n",
    "      [torchvision.transforms.ToTensor(), \n",
    "      torchvision.transforms.Normalize(mean = [0.5, 0.5, 0.5], std = [0.5, 0.5, 0.5])]\n",
    "  )\n",
    "train_dataset = torchvision.datasets.CIFAR10(\"./data\", train=True, download=True, transform=transform)\n",
    "test_dataset = torchvision.datasets.CIFAR10(\"./data\", train=False, download=True, transform=transform)"
   ]
  },
  {
   "cell_type": "markdown",
   "metadata": {
    "id": "JMPM8DdkzsgO"
   },
   "source": [
    "Because I use batch_size as hyperparameter in the second model, so I let the data generation process to be a function."
   ]
  },
  {
   "cell_type": "code",
   "execution_count": 5,
   "metadata": {
    "id": "ZLzwVOVu1FLo"
   },
   "outputs": [],
   "source": [
    "def prepare_dataset(batch_size, train_dataset, test_dataset):\n",
    "  train_dataset, val_dataset = random_split(train_dataset, [int(0.9 * len(train_dataset)), int( 0.1 * len(train_dataset))])\n",
    "\n",
    "  # Create separate dataloaders for the train, test, and validation set\n",
    "  train_loader = DataLoader(\n",
    "      train_dataset,\n",
    "      batch_size=batch_size,\n",
    "      shuffle=True\n",
    "  )\n",
    "\n",
    "  val_loader = DataLoader(\n",
    "      val_dataset,\n",
    "      batch_size=batch_size,\n",
    "      shuffle=True\n",
    "  )\n",
    "\n",
    "  test_loader = DataLoader(\n",
    "      test_dataset,\n",
    "      batch_size=batch_size,\n",
    "      shuffle=True\n",
    "  )\n",
    "  return train_loader, val_loader, test_loader"
   ]
  },
  {
   "cell_type": "markdown",
   "metadata": {
    "id": "OnVmRUNUr4hJ"
   },
   "source": [
    "## **First model:**"
   ]
  },
  {
   "cell_type": "code",
   "execution_count": 33,
   "metadata": {
    "id": "Au_DbgQP5iAj"
   },
   "outputs": [],
   "source": [
    "def linear_model(hidden_size) -> nn.Module:\n",
    "  model = nn.Sequential(\n",
    "      nn.Flatten(),   # batch_size * 3 * 32 * 32 to batch_size * 3072\n",
    "      nn.Linear(3072, hidden_size), # 3072 -> hidden_size\n",
    "      nn.ReLU(),\n",
    "      nn.Linear(hidden_size, 10)    # hidden_size -> 10\n",
    "  )\n",
    "  return model.to(DEVICE)"
   ]
  },
  {
   "cell_type": "code",
   "execution_count": 14,
   "metadata": {
    "id": "D59lSI5xkX8m"
   },
   "outputs": [],
   "source": [
    "def train(\n",
    "    model: nn.Module, optimizer: SGD, \n",
    "    train_loader: DataLoader, val_loader: DataLoader, \n",
    "    batch_size: int, epochs: int = 20\n",
    "    ) -> Tuple[List[float], List[float], List[float], List[float]]:\n",
    "\n",
    "    loss = nn.CrossEntropyLoss()\n",
    "    train_losses = []\n",
    "    train_accuracies = []\n",
    "    val_losses = []\n",
    "    val_accuracies = []\n",
    "    for _ in range(epochs):\n",
    "      model.train()\n",
    "      train_loss = 0.0\n",
    "      train_acc = 0.0\n",
    "\n",
    "      for (x_batch, labels) in train_loader:\n",
    "        x_batch, labels = x_batch.to(DEVICE), labels.to(DEVICE)\n",
    "        optimizer.zero_grad()\n",
    "        labels_pred = model(x_batch)\n",
    "        batch_loss = loss(labels_pred, labels)\n",
    "        train_loss += batch_loss.item()\n",
    "\n",
    "        labels_pred_max = torch.argmax(labels_pred, 1) # choose the highest index from row\n",
    "        batch_acc = torch.sum(labels_pred_max == labels)\n",
    "        train_acc += batch_acc.item()\n",
    "\n",
    "        batch_loss.backward()\n",
    "        optimizer.step()\n",
    "\n",
    "      train_losses.append(train_loss / len(train_loader))\n",
    "      train_accuracies.append(train_acc / (batch_size * len(train_loader)))\n",
    "\n",
    "      # validation process\n",
    "      model.eval()\n",
    "      val_loss = 0.0\n",
    "      val_acc = 0.0\n",
    "\n",
    "      with torch.no_grad():  # to save the memory\n",
    "        for (v_batch, labels) in val_loader:\n",
    "          v_batch, labels = v_batch.to(DEVICE), labels.to(DEVICE)\n",
    "          labels_pred = model(v_batch)\n",
    "          v_batch_loss = loss(labels_pred, labels)\n",
    "          val_loss = val_loss + v_batch_loss.item()\n",
    "\n",
    "          v_pred_max = torch.argmax(labels_pred, 1)\n",
    "          batch_acc = torch.sum(v_pred_max == labels)\n",
    "          val_acc = val_acc + batch_acc.item()\n",
    "        val_losses.append(val_loss / len(val_loader))\n",
    "        val_accuracies.append(val_acc / (batch_size * len(val_loader)))\n",
    "\n",
    "    return train_losses, train_accuracies, val_losses, val_accuracies\n"
   ]
  },
  {
   "cell_type": "markdown",
   "metadata": {
    "id": "wUOXAoQNzJE8"
   },
   "source": [
    "Using learning rate and hidden size as hyperparameter"
   ]
  },
  {
   "cell_type": "code",
   "execution_count": 15,
   "metadata": {
    "id": "hfkj22K_kY7u"
   },
   "outputs": [],
   "source": [
    "def parameter_search_a(train_dataset, test_dataset, model_fn:Callable[[], nn.Module]) -> float:\n",
    "  # find best learning rate for SGD optimizer\n",
    "  # find best hidden_size for model\n",
    "  best_loss = torch.inf\n",
    "  best_lr = 0.0\n",
    "  best_h = 0\n",
    "\n",
    "  lrs = [0.01, 0.001, 0.0001]\n",
    "  hidden_size = [30, 60, 90]\n",
    "  loss_dict = {}\n",
    "  loss_list = [] # store the min(loss) and its configuration\n",
    "  acc_dict = {}\n",
    "\n",
    "  for lr in lrs:\n",
    "    for h in hidden_size:\n",
    "      print(f\"trying learning rate {lr} and hidden_size as {h}\")\n",
    "      train_loader, val_loader, test_loader = prepare_dataset(128, train_dataset, test_dataset)\n",
    "      model = model_fn(h)\n",
    "      optim = SGD(model.parameters(), lr)\n",
    "\n",
    "      train_loss, train_acc, val_loss, val_acc = train(\n",
    "          model,\n",
    "          optim,\n",
    "          train_loader,\n",
    "          val_loader,\n",
    "          128, \n",
    "          epochs=30\n",
    "          )\n",
    "      loss_dict[f\"{lr}+{h}\"] = {\"train\": train_loss, \"val\": val_loss}\n",
    "      loss_list.append([min(val_loss), f\"{lr}+{h}\"])\n",
    "      acc_dict[f\"{lr}+{h}\"] = {\"train\": train_acc, \"val\": val_acc}\n",
    "      \n",
    "      if min(val_loss) < best_loss:\n",
    "        best_loss = min(val_loss)\n",
    "        best_lr = lr\n",
    "        best_h = h\n",
    "\n",
    "  return best_lr, best_h, loss_dict, sorted(loss_list), acc_dict"
   ]
  },
  {
   "cell_type": "code",
   "execution_count": null,
   "metadata": {
    "colab": {
     "base_uri": "https://localhost:8080/"
    },
    "id": "QVac8tptke7M",
    "outputId": "25f21a3b-e793-44b7-bffe-865d88826416"
   },
   "outputs": [
    {
     "name": "stdout",
     "output_type": "stream",
     "text": [
      "trying learning rate 0.01 and hidden_size as 30\n",
      "trying learning rate 0.01 and hidden_size as 60\n",
      "trying learning rate 0.01 and hidden_size as 90\n",
      "trying learning rate 0.001 and hidden_size as 30\n",
      "trying learning rate 0.001 and hidden_size as 60\n",
      "trying learning rate 0.001 and hidden_size as 90\n",
      "trying learning rate 0.0001 and hidden_size as 30\n",
      "trying learning rate 0.0001 and hidden_size as 60\n",
      "trying learning rate 0.0001 and hidden_size as 90\n"
     ]
    }
   ],
   "source": [
    "\n",
    "best_lr, best_h, d1_loss, l1_loss, d1_acc = parameter_search_a(train_dataset, test_dataset, linear_model)"
   ]
  },
  {
   "cell_type": "markdown",
   "metadata": {
    "id": "Q-imFHlR0Tle"
   },
   "source": [
    "Print the loss and its configuration to know which model is good."
   ]
  },
  {
   "cell_type": "code",
   "execution_count": null,
   "metadata": {
    "colab": {
     "base_uri": "https://localhost:8080/"
    },
    "id": "O9fQbFz3MRO1",
    "outputId": "96a64e43-997e-44c0-8002-67e7aaa58854"
   },
   "outputs": [
    {
     "name": "stdout",
     "output_type": "stream",
     "text": [
      "0.01 90\n"
     ]
    }
   ],
   "source": [
    "print(best_lr, best_h)"
   ]
  },
  {
   "cell_type": "code",
   "execution_count": null,
   "metadata": {
    "colab": {
     "base_uri": "https://localhost:8080/"
    },
    "id": "MZUagB9Icb92",
    "outputId": "26f9ceb4-1335-446d-fb11-872ccae8e284"
   },
   "outputs": [
    {
     "name": "stdout",
     "output_type": "stream",
     "text": [
      "[[1.3895368620753288, '0.01+90'], [1.4337662398815154, '0.01+30'], [1.4413400053977967, '0.01+60'], [1.651184993982315, '0.001+90'], [1.667005005478859, '0.001+60'], [1.6734070301055908, '0.001+30'], [2.009666898846626, '0.0001+30'], [2.011662554740906, '0.0001+90'], [2.0227504581213, '0.0001+60']]\n"
     ]
    }
   ],
   "source": [
    "print(l1_loss)"
   ]
  },
  {
   "cell_type": "markdown",
   "metadata": {
    "id": "8PFLz4460cnZ"
   },
   "source": [
    "Plot for quesiton (a)"
   ]
  },
  {
   "cell_type": "code",
   "execution_count": null,
   "metadata": {
    "colab": {
     "base_uri": "https://localhost:8080/"
    },
    "id": "Pv5_ATBBaOS_",
    "outputId": "314be06e-423a-4c70-fac9-291b303df7f9"
   },
   "outputs": [
    {
     "name": "stdout",
     "output_type": "stream",
     "text": [
      "[0.341015625, 0.375390625, 0.3931640625, 0.40234375, 0.4130859375, 0.423046875, 0.4310546875, 0.4400390625, 0.446484375, 0.446484375, 0.4541015625, 0.4580078125, 0.459375, 0.463671875, 0.46875, 0.466015625, 0.466015625, 0.471484375, 0.47734375, 0.4791015625, 0.4798828125, 0.480859375, 0.4828125, 0.4837890625, 0.4853515625, 0.486328125, 0.4837890625, 0.4896484375, 0.4890625, 0.492578125, 0.49453125, 0.4939453125, 0.4908203125, 0.492578125, 0.4998046875, 0.5001953125, 0.4953125, 0.494140625, 0.495703125, 0.49921875]\n"
     ]
    }
   ],
   "source": [
    "print(d1_acc[\"0.01+90\"][\"val\"])"
   ]
  },
  {
   "cell_type": "code",
   "execution_count": null,
   "metadata": {
    "colab": {
     "base_uri": "https://localhost:8080/",
     "height": 295
    },
    "id": "PlHPvbS1wtIv",
    "outputId": "50a9b077-ae90-4d75-9e6d-f9cbbaa7f337"
   },
   "outputs": [
    {
     "data": {
      "image/png": "[encoded data removed]",
      "text/plain": [
       "<Figure size 432x288 with 1 Axes>"
      ]
     },
     "metadata": {
      "needs_background": "light"
     },
     "output_type": "display_data"
    }
   ],
   "source": [
    "epochs = range(1, 31)\n",
    "plt.figure()\n",
    "plt.plot(epochs, d1_acc[\"0.01+90\"][\"train\"], label = \"Train for lr = 0.01 and hidden_size = 90\")\n",
    "plt.plot(epochs, d1_acc[\"0.01+90\"][\"val\"], label = \"Validation for lr = 0.01 and hidden_size = 90\")\n",
    "plt.plot(epochs, d1_acc[\"0.01+30\"][\"train\"], label = \"Train for lr = 0.01 and hidden_size = 30\")\n",
    "plt.plot(epochs, d1_acc[\"0.01+30\"][\"val\"], label = \"Validation for lr = 0.01 and hidden_size = 30\")\n",
    "plt.plot(epochs, d1_acc[\"0.01+60\"][\"train\"], label = \"Train for lr = 0.01 and hidden_size = 60\")\n",
    "plt.plot(epochs, d1_acc[\"0.01+60\"][\"val\"], label = \"Validation for lr = 0.01 and hidden_size = 60\")\n",
    "plt.plot(epochs, d1_acc[\"0.001+90\"][\"train\"], label = \"Train for lr = 0.001 and hidden_size = 90\")\n",
    "plt.plot(epochs, d1_acc[\"0.001+90\"][\"val\"], label = \"Validation for lr = 0.001 and hidden_size = 90\")\n",
    "plt.plot(epochs, d1_acc[\"0.001+60\"][\"train\"], label = \"Train for lr = 0.001 and hidden_size = 60\")\n",
    "plt.plot(epochs, d1_acc[\"0.001+60\"][\"val\"], label = \"Validation for lr = 0.001 and hidden_size = 60\")\n",
    "plt.xlabel(\"Epoch\")\n",
    "plt.ylabel(\"Accuracy\")\n",
    "plt.legend(bbox_to_anchor=(1.1, 1.05))\n",
    "plt.title(\"Linear model accuracy for CIFAR-10 v.s. Epoch\")\n",
    "plt.show()"
   ]
  },
  {
   "cell_type": "code",
   "execution_count": 35,
   "metadata": {
    "id": "LHAZvMQdNtNB"
   },
   "outputs": [],
   "source": [
    "\n",
    "train_loader, val_loader, test_loader = prepare_dataset(128, train_dataset, test_dataset)\n",
    "model = linear_model(90)\n",
    "optim = SGD(model.parameters(), 0.01)\n",
    "\n",
    "train_loss, train_acc, val_loss, val_acc = train(model,optim,train_loader,val_loader, 128,epochs=50)"
   ]
  },
  {
   "cell_type": "code",
   "execution_count": 9,
   "metadata": {
    "colab": {
     "base_uri": "https://localhost:8080/",
     "height": 295
    },
    "id": "T6gdY-2KOXjQ",
    "outputId": "797f98b8-d3c1-4e2a-dfb6-defa93bae3f6"
   },
   "outputs": [
    {
     "data": {
      "image/png": "[encoded data removed]",
      "text/plain": [
       "<Figure size 432x288 with 1 Axes>"
      ]
     },
     "metadata": {
      "needs_background": "light"
     },
     "output_type": "display_data"
    }
   ],
   "source": [
    "epochs = range(1, 51)\n",
    "plt.figure()\n",
    "plt.plot(epochs, train_acc, label = \"Train Accuracy\")\n",
    "plt.plot(epochs, val_acc, label = \"Validation Accuracy\")\n",
    "plt.xlabel(\"Epoch\")\n",
    "plt.ylabel(\"Accuracy\")\n",
    "plt.legend()\n",
    "plt.title(\"Linear model accuracy for CIFAR-10 v.s. Epoch\")\n",
    "plt.show()"
   ]
  },
  {
   "cell_type": "code",
   "execution_count": 10,
   "metadata": {
    "colab": {
     "base_uri": "https://localhost:8080/"
    },
    "id": "4B24DayN-3hU",
    "outputId": "da958355-5778-42ac-9a34-128c3cb29f64"
   },
   "outputs": [
    {
     "name": "stdout",
     "output_type": "stream",
     "text": [
      "[0.3435546875, 0.3763671875, 0.3951171875, 0.4095703125, 0.4203125, 0.428125, 0.433984375, 0.44140625, 0.445703125, 0.4482421875, 0.453125, 0.455859375, 0.4603515625, 0.4650390625, 0.46640625, 0.4669921875, 0.4697265625, 0.4744140625, 0.4736328125, 0.471875, 0.4775390625, 0.480859375, 0.479296875, 0.47890625, 0.4814453125, 0.484765625, 0.48203125, 0.4873046875, 0.4880859375, 0.486328125, 0.4904296875, 0.4951171875, 0.495703125, 0.4947265625, 0.4875, 0.494921875, 0.4962890625, 0.4958984375, 0.495703125, 0.4931640625, 0.49296875, 0.5, 0.4984375, 0.4990234375, 0.501171875, 0.4982421875, 0.5013671875, 0.5033203125, 0.5033203125, 0.4939453125]\n"
     ]
    }
   ],
   "source": [
    "print(val_acc)"
   ]
  },
  {
   "cell_type": "code",
   "execution_count": 16,
   "metadata": {
    "colab": {
     "base_uri": "https://localhost:8080/"
    },
    "id": "JPMk_RQwF4iS",
    "outputId": "c0485e76-1dbb-405f-ebd6-05269d4ce10d"
   },
   "outputs": [
    {
     "name": "stdout",
     "output_type": "stream",
     "text": [
      "0.501171875\n"
     ]
    }
   ],
   "source": [
    "print(val_acc[44]) # the first epoch that over 50% accuracy"
   ]
  },
  {
   "cell_type": "code",
   "execution_count": 30,
   "metadata": {
    "id": "HVwXz-EWQu8z"
   },
   "outputs": [],
   "source": [
    "def evaluate(\n",
    "    model: nn.Module, loader: DataLoader, batch_size: int\n",
    ") -> Tuple[float, float]:\n",
    "  \"\"\"Computes test loss and accuracy of model on loader.\"\"\"\n",
    "  loss = nn.CrossEntropyLoss()\n",
    "  model.eval()\n",
    "  test_loss = 0.0\n",
    "  test_acc = 0.0\n",
    "  with torch.no_grad():\n",
    "    for (batch, labels) in loader:\n",
    "      batch, labels = batch.to(DEVICE), labels.to(DEVICE)\n",
    "      y_batch_pred = model(batch)\n",
    "      batch_loss = loss(y_batch_pred, labels)\n",
    "      test_loss = test_loss + batch_loss.item()\n",
    "\n",
    "      pred_max = torch.argmax(y_batch_pred, 1)\n",
    "      batch_acc = torch.sum(pred_max == labels)\n",
    "      test_acc = test_acc + batch_acc.item()\n",
    "    test_loss = test_loss / len(loader)\n",
    "    test_acc = test_acc / (batch_size * len(loader))\n",
    "    return test_loss, test_acc"
   ]
  },
  {
   "cell_type": "markdown",
   "metadata": {
    "id": "wSPNgi5_0l8h"
   },
   "source": [
    "Calculate the test_dataset accuracy:"
   ]
  },
  {
   "cell_type": "code",
   "execution_count": 36,
   "metadata": {
    "colab": {
     "base_uri": "https://localhost:8080/"
    },
    "id": "HTBWp17fQwV2",
    "outputId": "71c8ece6-a96f-4f63-e370-63523245dcd3"
   },
   "outputs": [
    {
     "name": "stdout",
     "output_type": "stream",
     "text": [
      "Test Accuracy: 0.5136471518987342\n"
     ]
    }
   ],
   "source": [
    "\n",
    "test_loss, test_acc = evaluate(model, test_loader, 128)\n",
    "print(f\"Test Accuracy: {test_acc}\")"
   ]
  },
  {
   "cell_type": "markdown",
   "metadata": {
    "id": "EWdroIiIo5Q2"
   },
   "source": [
    "# **Second model:**"
   ]
  },
  {
   "cell_type": "markdown",
   "metadata": {
    "id": "eSsaAoqd08KF"
   },
   "source": [
    "Model defining (using all the reasoning choose)"
   ]
  },
  {
   "cell_type": "code",
   "execution_count": 8,
   "metadata": {
    "id": "IoGtzYVDkouc"
   },
   "outputs": [],
   "source": [
    "def conv_model():\n",
    "  model = nn.Sequential(\n",
    "      nn.Conv2d(3, 100, 5),  # 128 * 3 * 32 * 32. to 128 * 3 * (33 - 5) * 27 (33? is this a typo?)\n",
    "      nn.ReLU(), \n",
    "      nn.MaxPool2d(2, 2),                      # 128 * 3 * 28 * 28 to 128 * 3 * 14 * 14\n",
    "      nn.Flatten(), \n",
    "      nn.Linear(100 * 14 * 14, 10)   # 128 * 3 * 2 * 2 to 128 * 3 * 10 \n",
    "  )\n",
    "  return model.to(DEVICE)"
   ]
  },
  {
   "cell_type": "markdown",
   "metadata": {
    "id": "ljRJtkJf00Hj"
   },
   "source": [
    "Use learning rate and batch_size as hyperparameter"
   ]
  },
  {
   "cell_type": "code",
   "execution_count": 16,
   "metadata": {
    "id": "d8YP_dY5PPu9"
   },
   "outputs": [],
   "source": [
    "def parameter_search_b(train_dataset, test_dataset, model_fn:Callable[[], nn.Module]) -> float:\n",
    "  \n",
    "  best_loss = torch.inf\n",
    "  best_lr = 0.0\n",
    "  best_batch = 0\n",
    "  loss_dict = {}\n",
    "  loss_list = []\n",
    "  acc_dict = {}\n",
    "\n",
    "  lrs = [0.1, 0.01, 0.001]\n",
    "  batchs = [64, 128, 256]\n",
    "\n",
    "  for lr in lrs:\n",
    "    for batch in batchs:\n",
    "      print(f\"trying learning rate {lr} and batch_size {batch}.\")\n",
    "      # batch_size = batch\n",
    "      train_loader, val_loader, test_loader = prepare_dataset(batch, train_dataset, test_dataset)\n",
    "\n",
    "      model = model_fn()\n",
    "      optim = SGD(model.parameters(), lr)\n",
    "\n",
    "      train_loss, train_acc, val_loss, val_acc = train(\n",
    "          model,\n",
    "          optim,\n",
    "          train_loader,\n",
    "          val_loader,\n",
    "          batch, \n",
    "          epochs=30\n",
    "          )\n",
    "      loss_dict[f\"{lr}+{batch}\"] = {\"train\": train_loss, \"val\": val_loss}\n",
    "      loss_list.append([min(val_loss), f\"{lr}+{batch}\"])\n",
    "      acc_dict[f\"{lr}+{batch}\"] = {\"train\": train_acc, \"val\": val_acc}\n",
    "\n",
    "      if min(val_loss) < best_loss:\n",
    "        best_loss = min(val_loss)\n",
    "        best_lr = lr\n",
    "        best_batch = batch\n",
    "\n",
    "  return best_lr, best_batch, loss_dict, sorted(loss_list), acc_dict"
   ]
  },
  {
   "cell_type": "code",
   "execution_count": 17,
   "metadata": {
    "colab": {
     "base_uri": "https://localhost:8080/"
    },
    "id": "bhfVqkWQP9s8",
    "outputId": "447fd4f2-c56d-473e-b148-6ee57616b8ce"
   },
   "outputs": [
    {
     "name": "stdout",
     "output_type": "stream",
     "text": [
      "trying learning rate 0.1 and batch_size 64.\n",
      "trying learning rate 0.1 and batch_size 128.\n",
      "trying learning rate 0.1 and batch_size 256.\n",
      "trying learning rate 0.01 and batch_size 64.\n",
      "trying learning rate 0.01 and batch_size 128.\n",
      "trying learning rate 0.01 and batch_size 256.\n",
      "trying learning rate 0.001 and batch_size 64.\n",
      "trying learning rate 0.001 and batch_size 128.\n",
      "trying learning rate 0.001 and batch_size 256.\n"
     ]
    }
   ],
   "source": [
    " \n",
    "best_l, best_batch, d2_loss, l2_loss, d2_acc = parameter_search_b(train_dataset, test_dataset, conv_model)"
   ]
  },
  {
   "cell_type": "markdown",
   "metadata": {
    "id": "GDGPmuvJ1D2l"
   },
   "source": [
    "Print the result:"
   ]
  },
  {
   "cell_type": "code",
   "execution_count": 18,
   "metadata": {
    "colab": {
     "base_uri": "https://localhost:8080/"
    },
    "id": "JHuPfRU8rM1-",
    "outputId": "11a2f0c8-9a43-426b-d5f9-3989cfa3dd2c"
   },
   "outputs": [
    {
     "name": "stdout",
     "output_type": "stream",
     "text": [
      "0.1 256\n"
     ]
    }
   ],
   "source": [
    "print(best_l, best_batch)"
   ]
  },
  {
   "cell_type": "code",
   "execution_count": 28,
   "metadata": {
    "colab": {
     "base_uri": "https://localhost:8080/"
    },
    "id": "CCdeYR_PVX3F",
    "outputId": "ee4b2147-b7b3-403c-fe69-eac070f59618"
   },
   "outputs": [
    {
     "name": "stdout",
     "output_type": "stream",
     "text": [
      "[0.501171875, 0.5376953125, 0.5224609375, 0.6015625, 0.62734375, 0.603515625, 0.6384765625, 0.6236328125, 0.6302734375, 0.59375, 0.6525390625, 0.6423828125, 0.6498046875, 0.633984375, 0.665625, 0.640625, 0.65390625, 0.6234375, 0.6599609375, 0.6611328125, 0.6509765625, 0.64609375, 0.6390625, 0.6345703125, 0.6455078125, 0.646875, 0.6625, 0.6390625, 0.6412109375, 0.657421875]\n"
     ]
    }
   ],
   "source": [
    "print(d2_acc[\"0.1+256\"][\"val\"])"
   ]
  },
  {
   "cell_type": "code",
   "execution_count": 26,
   "metadata": {
    "colab": {
     "base_uri": "https://localhost:8080/"
    },
    "id": "8jFfEbDdrlK3",
    "outputId": "3f8d0e5d-0a1e-414b-c61d-d7eceb1bc559"
   },
   "outputs": [
    {
     "name": "stdout",
     "output_type": "stream",
     "text": [
      "[[0.9522730767726898, '0.1+256'], [0.9727176189422607, '0.01+128'], [0.9915038196346427, '0.01+64'], [1.0515513755381107, '0.1+128'], [1.0696197688579558, '0.01+256']]\n"
     ]
    }
   ],
   "source": [
    "print(l2_loss[:5])"
   ]
  },
  {
   "cell_type": "code",
   "execution_count": 40,
   "metadata": {
    "colab": {
     "base_uri": "https://localhost:8080/",
     "height": 295
    },
    "id": "YGzjEBmX3zTi",
    "outputId": "d6f7fa93-1df3-4d76-bb77-9c135ee3b525"
   },
   "outputs": [
    {
     "data": {
      "image/png": "[encoded data removed]",
      "text/plain": [
       "<Figure size 432x288 with 1 Axes>"
      ]
     },
     "metadata": {
      "needs_background": "light"
     },
     "output_type": "display_data"
    }
   ],
   "source": [
    "epochs = range(1, 31)\n",
    "plt.figure()\n",
    "plt.plot(epochs, d2_acc[\"0.1+256\"][\"train\"], label = \"Train for lr = 0.1 and batch_size = 256\")\n",
    "plt.plot(epochs, d2_acc[\"0.1+256\"][\"val\"], label = \"Validation for lr = 0.1 and batch_size = 256\")\n",
    "plt.plot(epochs, d2_acc[\"0.01+128\"][\"train\"], label = \"Train for lr = 0.01 and batch_size = 128\")\n",
    "plt.plot(epochs, d2_acc[\"0.01+128\"][\"val\"], label = \"Validation for lr = 0.01 and batch_size = 128\")\n",
    "plt.plot(epochs, d2_acc[\"0.01+64\"][\"train\"], label = \"Train for lr = 0.01 and batch_size = 64\")\n",
    "plt.plot(epochs, d2_acc[\"0.01+64\"][\"val\"], label = \"Validation for lr = 0.01 and batch_size = 64\")\n",
    "plt.plot(epochs, d2_acc[\"0.1+128\"][\"train\"], label = \"Train for lr = 0.1 and batch_size = 128\")\n",
    "plt.plot(epochs, d2_acc[\"0.1+128\"][\"val\"], label = \"Validation for lr = 0.1 and batch_size = 128\")\n",
    "plt.plot(epochs, d2_acc[\"0.01+256\"][\"train\"], label = \"Train for lr = 0.01 and batch_size = 256\")\n",
    "plt.plot(epochs, d2_acc[\"0.01+256\"][\"val\"], label = \"Validation for lr = 0.01 and batch_size = 256\")\n",
    "plt.xlabel(\"Epoch\")\n",
    "plt.ylabel(\"Accuracy\")\n",
    "plt.legend(bbox_to_anchor=(1.1, 1.05))\n",
    "plt.title(\"Convolution model accuracy for CIFAR-10 v.s. Epoch\")\n",
    "plt.show()"
   ]
  },
  {
   "cell_type": "code",
   "execution_count": 37,
   "metadata": {
    "colab": {
     "base_uri": "https://localhost:8080/"
    },
    "id": "PQ9jIA0FQbt3",
    "outputId": "d08dd355-24a1-4f35-ea81-91f3bc151217"
   },
   "outputs": [
    {
     "name": "stdout",
     "output_type": "stream",
     "text": [
      "[0.4529296875, 0.522265625, 0.5802734375, 0.572265625, 0.5892578125, 0.62421875, 0.6103515625, 0.6275390625, 0.6279296875, 0.61796875, 0.61015625, 0.651171875, 0.63984375, 0.642578125, 0.622265625, 0.6158203125, 0.621484375, 0.642578125, 0.6474609375, 0.560546875, 0.628515625, 0.62265625, 0.637109375, 0.6501953125, 0.648046875, 0.6439453125, 0.6546875, 0.6298828125, 0.6486328125, 0.645703125]\n"
     ]
    }
   ],
   "source": [
    "model = conv_model()\n",
    "optim = SGD(model.parameters(), best_l)\n",
    "train_loader, val_loader, test_loader = prepare_dataset(256, train_dataset, test_dataset)\n",
    "train_loss, train_acc, val_loss, val_acc = train(model,optim,train_loader,val_loader,  256,epochs=30)\n",
    "print(val_acc)"
   ]
  },
  {
   "cell_type": "code",
   "execution_count": 22,
   "metadata": {
    "colab": {
     "base_uri": "https://localhost:8080/"
    },
    "id": "ehq0qqjD3X2M",
    "outputId": "304b8c1f-0bef-49e9-bdde-36eb1d8e9f68"
   },
   "outputs": [
    {
     "name": "stdout",
     "output_type": "stream",
     "text": [
      "0.653125\n"
     ]
    }
   ],
   "source": [
    "print(val_acc[21])"
   ]
  },
  {
   "cell_type": "code",
   "execution_count": 23,
   "metadata": {
    "colab": {
     "base_uri": "https://localhost:8080/",
     "height": 295
    },
    "id": "4NZn391gSwIb",
    "outputId": "77d362bb-debe-4c3c-9d58-5e3c6c728658"
   },
   "outputs": [
    {
     "data": {
      "image/png": "[encoded data removed]",
      "text/plain": [
       "<Figure size 432x288 with 1 Axes>"
      ]
     },
     "metadata": {
      "needs_background": "light"
     },
     "output_type": "display_data"
    }
   ],
   "source": [
    "epochs = range(1, 51)\n",
    "plt.figure()\n",
    "plt.plot(epochs, train_acc, label = \"Train Accuracy\")\n",
    "plt.plot(epochs, val_acc, label = \"Validation Accuracy\")\n",
    "plt.xlabel(\"Epoch\")\n",
    "plt.ylabel(\"Accuracy\")\n",
    "plt.legend()\n",
    "plt.title(\"Convolution model accuracy for CIFAR-10 v.s. Epoch\")\n",
    "plt.show()"
   ]
  },
  {
   "cell_type": "code",
   "execution_count": 39,
   "metadata": {
    "colab": {
     "base_uri": "https://localhost:8080/"
    },
    "id": "3EaQOf2w3k8Y",
    "outputId": "5ca9d6d1-dc4b-49bf-f5cb-2c41757962aa"
   },
   "outputs": [
    {
     "name": "stdout",
     "output_type": "stream",
     "text": [
      "Test Accuracy: 0.65029296875\n"
     ]
    }
   ],
   "source": [
    "test_loss, test_acc = evaluate(model, test_loader, 256)\n",
    "print(f\"Test Accuracy: {test_acc}\")"
   ]
  }
 ],
 "metadata": {
  "accelerator": "GPU",
  "colab": {
   "provenance": []
  },
  "gpuClass": "standard",
  "kernelspec": {
   "display_name": "Python 3 (ipykernel)",
   "language": "python",
   "name": "python3"
  },
  "language_info": {
   "codemirror_mode": {
    "name": "ipython",
    "version": 3
   },
   "file_extension": ".py",
   "mimetype": "text/x-python",
   "name": "python",
   "nbconvert_exporter": "python",
   "pygments_lexer": "ipython3",
   "version": "3.9.12"
  },
  "widgets": {
   "application/vnd.jupyter.widget-state+json": {
    "150a86361c9f432680524323b457c1f7": {
     "model_module": "@jupyter-widgets/base",
     "model_module_version": "1.2.0",
     "model_name": "LayoutModel",
     "state": {
      "_model_module": "@jupyter-widgets/base",
      "_model_module_version": "1.2.0",
      "_model_name": "LayoutModel",
      "_view_count": null,
      "_view_module": "@jupyter-widgets/base",
      "_view_module_version": "1.2.0",
      "_view_name": "LayoutView",
      "align_content": null,
      "align_items": null,
      "align_self": null,
      "border": null,
      "bottom": null,
      "display": null,
      "flex": null,
      "flex_flow": null,
      "grid_area": null,
      "grid_auto_columns": null,
      "grid_auto_flow": null,
      "grid_auto_rows": null,
      "grid_column": null,
      "grid_gap": null,
      "grid_row": null,
      "grid_template_areas": null,
      "grid_template_columns": null,
      "grid_template_rows": null,
      "height": null,
      "justify_content": null,
      "justify_items": null,
      "left": null,
      "margin": null,
      "max_height": null,
      "max_width": null,
      "min_height": null,
      "min_width": null,
      "object_fit": null,
      "object_position": null,
      "order": null,
      "overflow": null,
      "overflow_x": null,
      "overflow_y": null,
      "padding": null,
      "right": null,
      "top": null,
      "visibility": null,
      "width": null
     }
    },
    "281daa1e1986403fad26bab721b5ad4a": {
     "model_module": "@jupyter-widgets/controls",
     "model_module_version": "1.5.0",
     "model_name": "DescriptionStyleModel",
     "state": {
      "_model_module": "@jupyter-widgets/controls",
      "_model_module_version": "1.5.0",
      "_model_name": "DescriptionStyleModel",
      "_view_count": null,
      "_view_module": "@jupyter-widgets/base",
      "_view_module_version": "1.2.0",
      "_view_name": "StyleView",
      "description_width": ""
     }
    },
    "2b20ab78d723443c864da3cedbbd9683": {
     "model_module": "@jupyter-widgets/controls",
     "model_module_version": "1.5.0",
     "model_name": "HTMLModel",
     "state": {
      "_dom_classes": [],
      "_model_module": "@jupyter-widgets/controls",
      "_model_module_version": "1.5.0",
      "_model_name": "HTMLModel",
      "_view_count": null,
      "_view_module": "@jupyter-widgets/controls",
      "_view_module_version": "1.5.0",
      "_view_name": "HTMLView",
      "description": "",
      "description_tooltip": null,
      "layout": "IPY_MODEL_150a86361c9f432680524323b457c1f7",
      "placeholder": "​",
      "style": "IPY_MODEL_281daa1e1986403fad26bab721b5ad4a",
      "value": " 170498071/170498071 [00:02&lt;00:00, 58645449.22it/s]"
     }
    },
    "3bcc9b0c911f4d268a0364635158691d": {
     "model_module": "@jupyter-widgets/base",
     "model_module_version": "1.2.0",
     "model_name": "LayoutModel",
     "state": {
      "_model_module": "@jupyter-widgets/base",
      "_model_module_version": "1.2.0",
      "_model_name": "LayoutModel",
      "_view_count": null,
      "_view_module": "@jupyter-widgets/base",
      "_view_module_version": "1.2.0",
      "_view_name": "LayoutView",
      "align_content": null,
      "align_items": null,
      "align_self": null,
      "border": null,
      "bottom": null,
      "display": null,
      "flex": null,
      "flex_flow": null,
      "grid_area": null,
      "grid_auto_columns": null,
      "grid_auto_flow": null,
      "grid_auto_rows": null,
      "grid_column": null,
      "grid_gap": null,
      "grid_row": null,
      "grid_template_areas": null,
      "grid_template_columns": null,
      "grid_template_rows": null,
      "height": null,
      "justify_content": null,
      "justify_items": null,
      "left": null,
      "margin": null,
      "max_height": null,
      "max_width": null,
      "min_height": null,
      "min_width": null,
      "object_fit": null,
      "object_position": null,
      "order": null,
      "overflow": null,
      "overflow_x": null,
      "overflow_y": null,
      "padding": null,
      "right": null,
      "top": null,
      "visibility": null,
      "width": null
     }
    },
    "61a0611ec3e246c39da4042bddfb79db": {
     "model_module": "@jupyter-widgets/base",
     "model_module_version": "1.2.0",
     "model_name": "LayoutModel",
     "state": {
      "_model_module": "@jupyter-widgets/base",
      "_model_module_version": "1.2.0",
      "_model_name": "LayoutModel",
      "_view_count": null,
      "_view_module": "@jupyter-widgets/base",
      "_view_module_version": "1.2.0",
      "_view_name": "LayoutView",
      "align_content": null,
      "align_items": null,
      "align_self": null,
      "border": null,
      "bottom": null,
      "display": null,
      "flex": null,
      "flex_flow": null,
      "grid_area": null,
      "grid_auto_columns": null,
      "grid_auto_flow": null,
      "grid_auto_rows": null,
      "grid_column": null,
      "grid_gap": null,
      "grid_row": null,
      "grid_template_areas": null,
      "grid_template_columns": null,
      "grid_template_rows": null,
      "height": null,
      "justify_content": null,
      "justify_items": null,
      "left": null,
      "margin": null,
      "max_height": null,
      "max_width": null,
      "min_height": null,
      "min_width": null,
      "object_fit": null,
      "object_position": null,
      "order": null,
      "overflow": null,
      "overflow_x": null,
      "overflow_y": null,
      "padding": null,
      "right": null,
      "top": null,
      "visibility": null,
      "width": null
     }
    },
    "68606088f2eb414ea444cc826d8bf3e3": {
     "model_module": "@jupyter-widgets/controls",
     "model_module_version": "1.5.0",
     "model_name": "FloatProgressModel",
     "state": {
      "_dom_classes": [],
      "_model_module": "@jupyter-widgets/controls",
      "_model_module_version": "1.5.0",
      "_model_name": "FloatProgressModel",
      "_view_count": null,
      "_view_module": "@jupyter-widgets/controls",
      "_view_module_version": "1.5.0",
      "_view_name": "ProgressView",
      "bar_style": "success",
      "description": "",
      "description_tooltip": null,
      "layout": "IPY_MODEL_d1cf81c0531948c19c482f4f29954266",
      "max": 170498071,
      "min": 0,
      "orientation": "horizontal",
      "style": "IPY_MODEL_fd92bc7f46ec42f5be102132de7843ba",
      "value": 170498071
     }
    },
    "909a889ac545486fa175665d88ee7eb4": {
     "model_module": "@jupyter-widgets/controls",
     "model_module_version": "1.5.0",
     "model_name": "HBoxModel",
     "state": {
      "_dom_classes": [],
      "_model_module": "@jupyter-widgets/controls",
      "_model_module_version": "1.5.0",
      "_model_name": "HBoxModel",
      "_view_count": null,
      "_view_module": "@jupyter-widgets/controls",
      "_view_module_version": "1.5.0",
      "_view_name": "HBoxView",
      "box_style": "",
      "children": [
       "IPY_MODEL_a39ada485b8641ddb5ffcdfc26bf1402",
       "IPY_MODEL_68606088f2eb414ea444cc826d8bf3e3",
       "IPY_MODEL_2b20ab78d723443c864da3cedbbd9683"
      ],
      "layout": "IPY_MODEL_61a0611ec3e246c39da4042bddfb79db"
     }
    },
    "a39ada485b8641ddb5ffcdfc26bf1402": {
     "model_module": "@jupyter-widgets/controls",
     "model_module_version": "1.5.0",
     "model_name": "HTMLModel",
     "state": {
      "_dom_classes": [],
      "_model_module": "@jupyter-widgets/controls",
      "_model_module_version": "1.5.0",
      "_model_name": "HTMLModel",
      "_view_count": null,
      "_view_module": "@jupyter-widgets/controls",
      "_view_module_version": "1.5.0",
      "_view_name": "HTMLView",
      "description": "",
      "description_tooltip": null,
      "layout": "IPY_MODEL_3bcc9b0c911f4d268a0364635158691d",
      "placeholder": "​",
      "style": "IPY_MODEL_b93d629f997848f9b9b12211601619e8",
      "value": "100%"
     }
    },
    "b93d629f997848f9b9b12211601619e8": {
     "model_module": "@jupyter-widgets/controls",
     "model_module_version": "1.5.0",
     "model_name": "DescriptionStyleModel",
     "state": {
      "_model_module": "@jupyter-widgets/controls",
      "_model_module_version": "1.5.0",
      "_model_name": "DescriptionStyleModel",
      "_view_count": null,
      "_view_module": "@jupyter-widgets/base",
      "_view_module_version": "1.2.0",
      "_view_name": "StyleView",
      "description_width": ""
     }
    },
    "d1cf81c0531948c19c482f4f29954266": {
     "model_module": "@jupyter-widgets/base",
     "model_module_version": "1.2.0",
     "model_name": "LayoutModel",
     "state": {
      "_model_module": "@jupyter-widgets/base",
      "_model_module_version": "1.2.0",
      "_model_name": "LayoutModel",
      "_view_count": null,
      "_view_module": "@jupyter-widgets/base",
      "_view_module_version": "1.2.0",
      "_view_name": "LayoutView",
      "align_content": null,
      "align_items": null,
      "align_self": null,
      "border": null,
      "bottom": null,
      "display": null,
      "flex": null,
      "flex_flow": null,
      "grid_area": null,
      "grid_auto_columns": null,
      "grid_auto_flow": null,
      "grid_auto_rows": null,
      "grid_column": null,
      "grid_gap": null,
      "grid_row": null,
      "grid_template_areas": null,
      "grid_template_columns": null,
      "grid_template_rows": null,
      "height": null,
      "justify_content": null,
      "justify_items": null,
      "left": null,
      "margin": null,
      "max_height": null,
      "max_width": null,
      "min_height": null,
      "min_width": null,
      "object_fit": null,
      "object_position": null,
      "order": null,
      "overflow": null,
      "overflow_x": null,
      "overflow_y": null,
      "padding": null,
      "right": null,
      "top": null,
      "visibility": null,
      "width": null
     }
    },
    "fd92bc7f46ec42f5be102132de7843ba": {
     "model_module": "@jupyter-widgets/controls",
     "model_module_version": "1.5.0",
     "model_name": "ProgressStyleModel",
     "state": {
      "_model_module": "@jupyter-widgets/controls",
      "_model_module_version": "1.5.0",
      "_model_name": "ProgressStyleModel",
      "_view_count": null,
      "_view_module": "@jupyter-widgets/base",
      "_view_module_version": "1.2.0",
      "_view_name": "StyleView",
      "bar_color": null,
      "description_width": ""
     }
    }
   }
  }
 },
 "nbformat": 4,
 "nbformat_minor": 1
}
